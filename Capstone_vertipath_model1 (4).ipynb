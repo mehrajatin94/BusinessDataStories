{
 "cells": [
  {
   "cell_type": "code",
   "execution_count": 1,
   "metadata": {
    "id": "U0ILBEVc7cBn"
   },
   "outputs": [],
   "source": [
    "# loading all required liberaries\n",
    "import pandas as pd\n",
    "import numpy as np\n",
    "import matplotlib.pyplot as plt\n",
    "import seaborn as sns\n",
    "import sklearn\n",
    "import tkinter as tk\n",
    "\n",
    "from tkinter import ttk\n",
    "from PIL import Image, ImageTk\n",
    "from sklearn.model_selection import train_test_split\n",
    "from sklearn.svm import LinearSVC\n",
    "from sklearn.naive_bayes import MultinomialNB\n",
    "from sklearn.feature_extraction.text import CountVectorizer\n",
    "from sklearn.feature_extraction.text import TfidfVectorizer\n",
    "from sklearn.metrics import accuracy_score, classification_report"
   ]
  },
  {
   "cell_type": "code",
   "execution_count": 2,
   "metadata": {
    "id": "1560mGgG7lq8"
   },
   "outputs": [],
   "source": [
    "dataset = pd.read_csv(\"C://Users/16472/Downloads/dataset.csv\")"
   ]
  },
  {
   "cell_type": "code",
   "execution_count": 3,
   "metadata": {
    "colab": {
     "base_uri": "https://localhost:8080/",
     "height": 206
    },
    "id": "vNvSZ5PJ796h",
    "outputId": "05a5ee4c-8eae-47f9-84d8-2620211106ce"
   },
   "outputs": [
    {
     "data": {
      "text/html": [
       "<div>\n",
       "<style scoped>\n",
       "    .dataframe tbody tr th:only-of-type {\n",
       "        vertical-align: middle;\n",
       "    }\n",
       "\n",
       "    .dataframe tbody tr th {\n",
       "        vertical-align: top;\n",
       "    }\n",
       "\n",
       "    .dataframe thead th {\n",
       "        text-align: right;\n",
       "    }\n",
       "</style>\n",
       "<table border=\"1\" class=\"dataframe\">\n",
       "  <thead>\n",
       "    <tr style=\"text-align: right;\">\n",
       "      <th></th>\n",
       "      <th>ID</th>\n",
       "      <th>Inquiry</th>\n",
       "      <th>Category</th>\n",
       "    </tr>\n",
       "  </thead>\n",
       "  <tbody>\n",
       "    <tr>\n",
       "      <th>0</th>\n",
       "      <td>1</td>\n",
       "      <td>How can I find affordable accommodation near t...</td>\n",
       "      <td>Accommodation</td>\n",
       "    </tr>\n",
       "    <tr>\n",
       "      <th>1</th>\n",
       "      <td>2</td>\n",
       "      <td>Are there any dormitories or hostels available...</td>\n",
       "      <td>Accommodation</td>\n",
       "    </tr>\n",
       "    <tr>\n",
       "      <th>2</th>\n",
       "      <td>3</td>\n",
       "      <td>Can I share accommodation with another student...</td>\n",
       "      <td>Accommodation</td>\n",
       "    </tr>\n",
       "    <tr>\n",
       "      <th>3</th>\n",
       "      <td>4</td>\n",
       "      <td>Are there any off-campus accommodations recomm...</td>\n",
       "      <td>Accommodation</td>\n",
       "    </tr>\n",
       "    <tr>\n",
       "      <th>4</th>\n",
       "      <td>5</td>\n",
       "      <td>What are the average rent costs in the vicinit...</td>\n",
       "      <td>Accommodation</td>\n",
       "    </tr>\n",
       "  </tbody>\n",
       "</table>\n",
       "</div>"
      ],
      "text/plain": [
       "   ID                                            Inquiry       Category\n",
       "0   1  How can I find affordable accommodation near t...  Accommodation\n",
       "1   2  Are there any dormitories or hostels available...  Accommodation\n",
       "2   3  Can I share accommodation with another student...  Accommodation\n",
       "3   4  Are there any off-campus accommodations recomm...  Accommodation\n",
       "4   5  What are the average rent costs in the vicinit...  Accommodation"
      ]
     },
     "execution_count": 3,
     "metadata": {},
     "output_type": "execute_result"
    }
   ],
   "source": [
    "dataset.head()"
   ]
  },
  {
   "cell_type": "code",
   "execution_count": 4,
   "metadata": {
    "colab": {
     "base_uri": "https://localhost:8080/"
    },
    "id": "_-pvuSiW8AiQ",
    "outputId": "13e64d4f-73d2-40c6-f0c4-f0c2ec683362"
   },
   "outputs": [
    {
     "name": "stdout",
     "output_type": "stream",
     "text": [
      "<class 'pandas.core.frame.DataFrame'>\n",
      "RangeIndex: 158 entries, 0 to 157\n",
      "Data columns (total 3 columns):\n",
      " #   Column    Non-Null Count  Dtype \n",
      "---  ------    --------------  ----- \n",
      " 0   ID        158 non-null    int64 \n",
      " 1   Inquiry   158 non-null    object\n",
      " 2   Category  158 non-null    object\n",
      "dtypes: int64(1), object(2)\n",
      "memory usage: 3.8+ KB\n"
     ]
    }
   ],
   "source": [
    "dataset.info()"
   ]
  },
  {
   "cell_type": "code",
   "execution_count": 5,
   "metadata": {
    "colab": {
     "base_uri": "https://localhost:8080/"
    },
    "id": "JUgdjYK38D1d",
    "outputId": "ce84b750-2698-46fd-bd2d-bf050a1647aa"
   },
   "outputs": [
    {
     "data": {
      "text/plain": [
       "(158, 3)"
      ]
     },
     "execution_count": 5,
     "metadata": {},
     "output_type": "execute_result"
    }
   ],
   "source": [
    "dataset.shape"
   ]
  },
  {
   "cell_type": "code",
   "execution_count": 6,
   "metadata": {
    "colab": {
     "base_uri": "https://localhost:8080/"
    },
    "id": "mOn0EcBq8NVf",
    "outputId": "a383b13e-393d-4d3f-b9e9-6703c859eba6"
   },
   "outputs": [
    {
     "data": {
      "text/plain": [
       "ID           int64\n",
       "Inquiry     object\n",
       "Category    object\n",
       "dtype: object"
      ]
     },
     "execution_count": 6,
     "metadata": {},
     "output_type": "execute_result"
    }
   ],
   "source": [
    "dataset.dtypes"
   ]
  },
  {
   "cell_type": "code",
   "execution_count": 7,
   "metadata": {
    "id": "wEsQB4XKRub-"
   },
   "outputs": [],
   "source": [
    "#Removing ID column\n",
    "dataset = dataset.drop(columns=['ID'])"
   ]
  },
  {
   "cell_type": "code",
   "execution_count": 8,
   "metadata": {
    "colab": {
     "base_uri": "https://localhost:8080/",
     "height": 206
    },
    "id": "nBjCtqJXSKnR",
    "outputId": "7b748705-75f7-4cc5-fd01-0dd8fd7e990b"
   },
   "outputs": [
    {
     "data": {
      "text/html": [
       "<div>\n",
       "<style scoped>\n",
       "    .dataframe tbody tr th:only-of-type {\n",
       "        vertical-align: middle;\n",
       "    }\n",
       "\n",
       "    .dataframe tbody tr th {\n",
       "        vertical-align: top;\n",
       "    }\n",
       "\n",
       "    .dataframe thead th {\n",
       "        text-align: right;\n",
       "    }\n",
       "</style>\n",
       "<table border=\"1\" class=\"dataframe\">\n",
       "  <thead>\n",
       "    <tr style=\"text-align: right;\">\n",
       "      <th></th>\n",
       "      <th>Inquiry</th>\n",
       "      <th>Category</th>\n",
       "    </tr>\n",
       "  </thead>\n",
       "  <tbody>\n",
       "    <tr>\n",
       "      <th>0</th>\n",
       "      <td>How can I find affordable accommodation near t...</td>\n",
       "      <td>Accommodation</td>\n",
       "    </tr>\n",
       "    <tr>\n",
       "      <th>1</th>\n",
       "      <td>Are there any dormitories or hostels available...</td>\n",
       "      <td>Accommodation</td>\n",
       "    </tr>\n",
       "    <tr>\n",
       "      <th>2</th>\n",
       "      <td>Can I share accommodation with another student...</td>\n",
       "      <td>Accommodation</td>\n",
       "    </tr>\n",
       "    <tr>\n",
       "      <th>3</th>\n",
       "      <td>Are there any off-campus accommodations recomm...</td>\n",
       "      <td>Accommodation</td>\n",
       "    </tr>\n",
       "    <tr>\n",
       "      <th>4</th>\n",
       "      <td>What are the average rent costs in the vicinit...</td>\n",
       "      <td>Accommodation</td>\n",
       "    </tr>\n",
       "  </tbody>\n",
       "</table>\n",
       "</div>"
      ],
      "text/plain": [
       "                                             Inquiry       Category\n",
       "0  How can I find affordable accommodation near t...  Accommodation\n",
       "1  Are there any dormitories or hostels available...  Accommodation\n",
       "2  Can I share accommodation with another student...  Accommodation\n",
       "3  Are there any off-campus accommodations recomm...  Accommodation\n",
       "4  What are the average rent costs in the vicinit...  Accommodation"
      ]
     },
     "execution_count": 8,
     "metadata": {},
     "output_type": "execute_result"
    }
   ],
   "source": [
    "dataset.head()"
   ]
  },
  {
   "cell_type": "code",
   "execution_count": 9,
   "metadata": {
    "colab": {
     "base_uri": "https://localhost:8080/"
    },
    "id": "lP-kSul48UdD",
    "outputId": "457aeff5-b82a-46ac-958f-4b36f8f7f166"
   },
   "outputs": [
    {
     "name": "stdout",
     "output_type": "stream",
     "text": [
      "['Inquiry', 'Category']\n"
     ]
    }
   ],
   "source": [
    "cat_cols = [col for col in dataset.columns if dataset[col].dtypes == \"O\"]\n",
    "print(cat_cols)"
   ]
  },
  {
   "cell_type": "code",
   "execution_count": 10,
   "metadata": {
    "colab": {
     "base_uri": "https://localhost:8080/"
    },
    "id": "yH00p8zP8fdh",
    "outputId": "0939454d-291b-4ab3-e13e-4475b04b15dd"
   },
   "outputs": [
    {
     "name": "stdout",
     "output_type": "stream",
     "text": [
      "Column 'Inquiry' has 158 categories.\n",
      "Column 'Category' has 8 categories.\n"
     ]
    }
   ],
   "source": [
    "def count_categories_in_columns(df,cols_to_count):\n",
    "    for col in cols_to_count:\n",
    "        cat_categories = dataset[col].value_counts().count()\n",
    "        print(f\"Column '{col}' has {cat_categories} categories.\")\n",
    "\n",
    "count_categories_in_columns(dataset, cat_cols)"
   ]
  },
  {
   "cell_type": "code",
   "execution_count": 11,
   "metadata": {
    "colab": {
     "base_uri": "https://localhost:8080/",
     "height": 507
    },
    "id": "iZbvVDuR8uM5",
    "outputId": "60629d43-6853-432b-8a71-b6f303776907"
   },
   "outputs": [
    {
     "data": {
      "image/png": "[encoded data removed]",
      "text/plain": [
       "<Figure size 1000x500 with 2 Axes>"
      ]
     },
     "metadata": {},
     "output_type": "display_data"
    }
   ],
   "source": [
    "def plot_categorical_variables(dataframe, columns, y_axis_label=None):\n",
    "\n",
    "    # Identify categorical variables\n",
    "    categorical_cols = columns\n",
    "\n",
    "    # Set the number of rows and columns for the subplot grid\n",
    "    num_rows = (len(categorical_cols) // 2) + (len(categorical_cols) % 2)\n",
    "    num_cols = 2\n",
    "\n",
    "    # Create the subplot grid\n",
    "    fig, axes = plt.subplots(num_rows, num_cols, figsize=(10, 5 * num_rows))\n",
    "\n",
    "    # Flatten the axes array for easier iteration\n",
    "    axes = axes.flatten()\n",
    "\n",
    "    # Iterate through each categorical column and create plots\n",
    "    for i, col in enumerate(categorical_cols):\n",
    "        sns.countplot(x=col, data=dataframe, ax=axes[i])\n",
    "        axes[i].set_title(f\"Count Plot for '{col}'\")\n",
    "        axes[i].tick_params(axis='x', rotation=90, labelsize=12)\n",
    "\n",
    "        # Set custom y-axis label if provided\n",
    "        if y_axis_label:\n",
    "            axes[i].set_ylabel(y_axis_label)\n",
    "\n",
    "    # Hide any empty subplots\n",
    "    for i in range(len(categorical_cols), len(axes)):\n",
    "        axes[i].axis('off')\n",
    "\n",
    "    # Adjust the layout to prevent overlapping titles\n",
    "    plt.tight_layout()\n",
    "\n",
    "    # Show the plot\n",
    "    plt.show()\n",
    "\n",
    "cat_col = ['Category']\n",
    "plot_categorical_variables(dataset,cat_col, y_axis_label=\"Number of inquiries\")"
   ]
  },
  {
   "cell_type": "code",
   "execution_count": 12,
   "metadata": {
    "id": "vudeZGCuRTtf"
   },
   "outputs": [],
   "source": [
    "#Split data into features (X) and labels (y)\n",
    "X = dataset['Inquiry']\n",
    "y = dataset['Category']\n",
    "\n",
    "# Split the data into training and testing sets\n",
    "X_train, X_test, y_train, y_test = train_test_split(X, y, test_size=0.3, random_state=42)"
   ]
  },
  {
   "cell_type": "code",
   "execution_count": 13,
   "metadata": {
    "id": "VQP7hOHlXSsg"
   },
   "outputs": [],
   "source": [
    "# Convert text to numerical features using CountVectorizer\n",
    "vectorizer = TfidfVectorizer()\n",
    "X_train_vectorized = vectorizer.fit_transform(X_train)\n",
    "X_test_vectorized = vectorizer.transform(X_test)"
   ]
  },
  {
   "cell_type": "code",
   "execution_count": 14,
   "metadata": {},
   "outputs": [
    {
     "data": {
      "text/plain": [
       "141      Counselling\n",
       "11     Accommodation\n",
       "79       Immigration\n",
       "68       Immigration\n",
       "123      Counselling\n",
       "           ...      \n",
       "71       Immigration\n",
       "106       Complaints\n",
       "14     Accommodation\n",
       "92           Careers\n",
       "102       Complaints\n",
       "Name: Category, Length: 110, dtype: object"
      ]
     },
     "execution_count": 14,
     "metadata": {},
     "output_type": "execute_result"
    }
   ],
   "source": [
    "y_train"
   ]
  },
  {
   "cell_type": "code",
   "execution_count": 15,
   "metadata": {},
   "outputs": [
    {
     "name": "stderr",
     "output_type": "stream",
     "text": [
      "C:\\ProgramData\\anaconda3\\Lib\\site-packages\\sklearn\\svm\\_classes.py:32: FutureWarning: The default value of `dual` will change from `True` to `'auto'` in 1.5. Set the value of `dual` explicitly to suppress the warning.\n",
      "  warnings.warn(\n"
     ]
    },
    {
     "data": {
      "text/html": [
       "<style>#sk-container-id-1 {color: black;}#sk-container-id-1 pre{padding: 0;}#sk-container-id-1 div.sk-toggleable {background-color: white;}#sk-container-id-1 label.sk-toggleable__label {cursor: pointer;display: block;width: 100%;margin-bottom: 0;padding: 0.3em;box-sizing: border-box;text-align: center;}#sk-container-id-1 label.sk-toggleable__label-arrow:before {content: \"▸\";float: left;margin-right: 0.25em;color: #696969;}#sk-container-id-1 label.sk-toggleable__label-arrow:hover:before {color: black;}#sk-container-id-1 div.sk-estimator:hover label.sk-toggleable__label-arrow:before {color: black;}#sk-container-id-1 div.sk-toggleable__content {max-height: 0;max-width: 0;overflow: hidden;text-align: left;background-color: #f0f8ff;}#sk-container-id-1 div.sk-toggleable__content pre {margin: 0.2em;color: black;border-radius: 0.25em;background-color: #f0f8ff;}#sk-container-id-1 input.sk-toggleable__control:checked~div.sk-toggleable__content {max-height: 200px;max-width: 100%;overflow: auto;}#sk-container-id-1 input.sk-toggleable__control:checked~label.sk-toggleable__label-arrow:before {content: \"▾\";}#sk-container-id-1 div.sk-estimator input.sk-toggleable__control:checked~label.sk-toggleable__label {background-color: #d4ebff;}#sk-container-id-1 div.sk-label input.sk-toggleable__control:checked~label.sk-toggleable__label {background-color: #d4ebff;}#sk-container-id-1 input.sk-hidden--visually {border: 0;clip: rect(1px 1px 1px 1px);clip: rect(1px, 1px, 1px, 1px);height: 1px;margin: -1px;overflow: hidden;padding: 0;position: absolute;width: 1px;}#sk-container-id-1 div.sk-estimator {font-family: monospace;background-color: #f0f8ff;border: 1px dotted black;border-radius: 0.25em;box-sizing: border-box;margin-bottom: 0.5em;}#sk-container-id-1 div.sk-estimator:hover {background-color: #d4ebff;}#sk-container-id-1 div.sk-parallel-item::after {content: \"\";width: 100%;border-bottom: 1px solid gray;flex-grow: 1;}#sk-container-id-1 div.sk-label:hover label.sk-toggleable__label {background-color: #d4ebff;}#sk-container-id-1 div.sk-serial::before {content: \"\";position: absolute;border-left: 1px solid gray;box-sizing: border-box;top: 0;bottom: 0;left: 50%;z-index: 0;}#sk-container-id-1 div.sk-serial {display: flex;flex-direction: column;align-items: center;background-color: white;padding-right: 0.2em;padding-left: 0.2em;position: relative;}#sk-container-id-1 div.sk-item {position: relative;z-index: 1;}#sk-container-id-1 div.sk-parallel {display: flex;align-items: stretch;justify-content: center;background-color: white;position: relative;}#sk-container-id-1 div.sk-item::before, #sk-container-id-1 div.sk-parallel-item::before {content: \"\";position: absolute;border-left: 1px solid gray;box-sizing: border-box;top: 0;bottom: 0;left: 50%;z-index: -1;}#sk-container-id-1 div.sk-parallel-item {display: flex;flex-direction: column;z-index: 1;position: relative;background-color: white;}#sk-container-id-1 div.sk-parallel-item:first-child::after {align-self: flex-end;width: 50%;}#sk-container-id-1 div.sk-parallel-item:last-child::after {align-self: flex-start;width: 50%;}#sk-container-id-1 div.sk-parallel-item:only-child::after {width: 0;}#sk-container-id-1 div.sk-dashed-wrapped {border: 1px dashed gray;margin: 0 0.4em 0.5em 0.4em;box-sizing: border-box;padding-bottom: 0.4em;background-color: white;}#sk-container-id-1 div.sk-label label {font-family: monospace;font-weight: bold;display: inline-block;line-height: 1.2em;}#sk-container-id-1 div.sk-label-container {text-align: center;}#sk-container-id-1 div.sk-container {/* jupyter's `normalize.less` sets `[hidden] { display: none; }` but bootstrap.min.css set `[hidden] { display: none !important; }` so we also need the `!important` here to be able to override the default hidden behavior on the sphinx rendered scikit-learn.org. See: https://github.com/scikit-learn/scikit-learn/issues/21755 */display: inline-block !important;position: relative;}#sk-container-id-1 div.sk-text-repr-fallback {display: none;}</style><div id=\"sk-container-id-1\" class=\"sk-top-container\"><div class=\"sk-text-repr-fallback\"><pre>LinearSVC()</pre><b>In a Jupyter environment, please rerun this cell to show the HTML representation or trust the notebook. <br />On GitHub, the HTML representation is unable to render, please try loading this page with nbviewer.org.</b></div><div class=\"sk-container\" hidden><div class=\"sk-item\"><div class=\"sk-estimator sk-toggleable\"><input class=\"sk-toggleable__control sk-hidden--visually\" id=\"sk-estimator-id-1\" type=\"checkbox\" checked><label for=\"sk-estimator-id-1\" class=\"sk-toggleable__label sk-toggleable__label-arrow\">LinearSVC</label><div class=\"sk-toggleable__content\"><pre>LinearSVC()</pre></div></div></div></div></div>"
      ],
      "text/plain": [
       "LinearSVC()"
      ]
     },
     "execution_count": 15,
     "metadata": {},
     "output_type": "execute_result"
    }
   ],
   "source": [
    "#deploying support vector machine\n",
    "clf = LinearSVC()\n",
    "clf.fit(X_train_vectorized, y_train)"
   ]
  },
  {
   "cell_type": "code",
   "execution_count": 16,
   "metadata": {
    "colab": {
     "base_uri": "https://localhost:8080/"
    },
    "id": "FCb7gOJSXS2J",
    "outputId": "4a14471a-21be-43e2-b76d-6fc58e4000e6"
   },
   "outputs": [
    {
     "name": "stdout",
     "output_type": "stream",
     "text": [
      "Accuracy: 0.8333333333333334\n",
      "Classification Report:\n",
      "               precision    recall  f1-score   support\n",
      "\n",
      "Accommodation       0.62      1.00      0.77         5\n",
      "      Careers       0.83      0.83      0.83         6\n",
      "   Complaints       1.00      1.00      1.00         2\n",
      "  Counselling       0.80      0.80      0.80        10\n",
      "         Fees       1.00      0.71      0.83         7\n",
      "      General       1.00      0.50      0.67         6\n",
      "  Immigration       0.88      1.00      0.93         7\n",
      " Registration       0.83      1.00      0.91         5\n",
      "\n",
      "     accuracy                           0.83        48\n",
      "    macro avg       0.87      0.86      0.84        48\n",
      " weighted avg       0.86      0.83      0.83        48\n",
      "\n"
     ]
    }
   ],
   "source": [
    "# Make predictions on the test set\n",
    "predictions = clf.predict(X_test_vectorized)\n",
    "\n",
    "# Evaluate accuracy\n",
    "accuracy = accuracy_score(y_test, predictions)\n",
    "print(\"Accuracy:\", accuracy)\n",
    "\n",
    "# Print classification report\n",
    "print(\"Classification Report:\")\n",
    "print(classification_report(y_test, predictions))"
   ]
  },
  {
   "cell_type": "code",
   "execution_count": 17,
   "metadata": {
    "id": "UTrTbng8XS5K"
   },
   "outputs": [],
   "source": [
    "#Function to classify a user-provided question\n",
    "def classify_question(user_question):\n",
    "    #Transform the user's question using the TF-IDF vectorizer\n",
    "    user_question_vectorized = vectorizer.transform([user_question])\n",
    "\n",
    "    #Predict the category for the user's question\n",
    "    predicted_category = clf.predict(user_question_vectorized)[0]\n",
    "\n",
    "    return predicted_category\n"
   ]
  },
  {
   "cell_type": "code",
   "execution_count": 18,
   "metadata": {
    "colab": {
     "base_uri": "https://localhost:8080/"
    },
    "id": "p8die5GqRT0h",
    "outputId": "500d231e-24e7-42b9-bbbc-221632888893"
   },
   "outputs": [
    {
     "name": "stderr",
     "output_type": "stream",
     "text": [
      "C:\\Users\\16472\\AppData\\Local\\Temp\\ipykernel_17684\\950595252.py:14: DeprecationWarning: ANTIALIAS is deprecated and will be removed in Pillow 10 (2023-07-01). Use LANCZOS or Resampling.LANCZOS instead.\n",
      "  img = img.resize((600, 400), Image.ANTIALIAS)  # Resize the image to fit the window\n"
     ]
    }
   ],
   "source": [
    "\n",
    "class CategoryAssignmentGUI:\n",
    "    def __init__(self):\n",
    "        self.categories = ['Accommodation', 'Fees', 'Registration', 'Immigration', 'Careers',\n",
    "                           'Complaints', 'Counselling', 'General']\n",
    "\n",
    "        self.category_email_mapping = []\n",
    "\n",
    "        self.root = tk.Tk()\n",
    "        self.root.title(\"Category Assignment GUI\")\n",
    "        self.root.geometry(\"600x400\")  # Adjusted window size\n",
    "\n",
    "        # Load and set the background image using Pillow\n",
    "        img = Image.open(\"C://Users/16472/Downloads/igs.jpg\")  # Change \"background_image.jpg\" to your image file\n",
    "        img = img.resize((600, 400), Image.ANTIALIAS)  # Resize the image to fit the window\n",
    "        self.background_image = ImageTk.PhotoImage(img)\n",
    "        self.background_label = tk.Label(self.root, image=self.background_image)\n",
    "        self.background_label.place(relwidth=1, relheight=1)\n",
    "\n",
    "        # Heading\n",
    "        self.heading_label = ttk.Label(self.root, text=\"VERTIPATH TECHNOLOGIES\", font=('Helvetica', 16, 'bold'))\n",
    "        self.heading_label.pack(pady=10)\n",
    "\n",
    "        # Organization Name\n",
    "        self.org_label = ttk.Label(self.root, text=\"HUMBER INTERNATIONAL GRADUATE SCHOOL\", font=('Helvetica', 14, 'italic'))\n",
    "        self.org_label.pack(pady=10)\n",
    "\n",
    "        self.label = ttk.Label(self.root, text=\"Enter your question:\")\n",
    "        self.label.pack(pady=5)\n",
    "\n",
    "        self.entry = ttk.Entry(self.root, width=90)\n",
    "        self.entry.pack(pady=5)\n",
    "\n",
    "        self.button = ttk.Button(self.root, text=\"Submit\", command=self.process_question)\n",
    "        self.button.pack(pady=10)\n",
    "\n",
    "        self.clear_button = ttk.Button(self.root, text=\"Clear\", command=self.clear_fields)\n",
    "        self.clear_button.pack(pady=5)\n",
    "\n",
    "        self.exit_button = ttk.Button(self.root, text=\"Exit\", command=self.root.destroy)\n",
    "        self.exit_button.pack(pady=10)\n",
    "\n",
    "        self.result_label = ttk.Label(self.root, text=\"\")\n",
    "        self.result_label.pack(pady=10)\n",
    "\n",
    "    def process_question(self):\n",
    "        user_input = self.entry.get()\n",
    "        if user_input.lower() == 'exit':\n",
    "            self.root.destroy()\n",
    "            return\n",
    "        try:\n",
    "            predicted_category = classify_question(user_input)\n",
    "            email = f\"{predicted_category.lower()}@email.com\"\n",
    "            self.category_email_mapping.append((predicted_category, email))\n",
    "            result_text = f\"Predicted Category: {predicted_category}\\nAssigned Email: {email}\"\n",
    "\n",
    "            # Display the mapping\n",
    "            #result_text += \"\\n\\nCategory-Email Mapping:\"\n",
    "            #for category, email in self.category_email_mapping:\n",
    "                #result_text += f\"\\nCategory: {category} -> Email: {email}\"\n",
    "\n",
    "            self.result_label.config(text=result_text)\n",
    "        except ValueError as e:\n",
    "            self.result_label.config(text=f\"Error: {e}\")\n",
    "\n",
    "    def clear_fields(self):\n",
    "        # Clear the entry field and result label\n",
    "        self.entry.delete(0, tk.END)\n",
    "        self.result_label.config(text=\"\")\n",
    "\n",
    "    def run(self):\n",
    "        self.root.mainloop()\n",
    "\n",
    "# Replace this function with your actual classifier function\n",
    "def classify_question(user_question):\n",
    "    #Transform the user's question using the TF-IDF vectorizer\n",
    "    user_question_vectorized = vectorizer.transform([user_question])\n",
    "\n",
    "    #Predict the category for the user's question\n",
    "    predicted_category = clf.predict(user_question_vectorized)[0]\n",
    "\n",
    "    return predicted_category\n",
    "\n",
    "# Create an instance of the GUI and run it\n",
    "gui = CategoryAssignmentGUI()\n",
    "gui.run()"
   ]
  },
  {
   "cell_type": "markdown",
   "metadata": {},
   "source": [
    "# Previous models used with their accuracy score--->>>"
   ]
  },
  {
   "cell_type": "code",
   "execution_count": 16,
   "metadata": {},
   "outputs": [
    {
     "data": {
      "text/html": [
       "<style>#sk-container-id-2 {color: black;}#sk-container-id-2 pre{padding: 0;}#sk-container-id-2 div.sk-toggleable {background-color: white;}#sk-container-id-2 label.sk-toggleable__label {cursor: pointer;display: block;width: 100%;margin-bottom: 0;padding: 0.3em;box-sizing: border-box;text-align: center;}#sk-container-id-2 label.sk-toggleable__label-arrow:before {content: \"▸\";float: left;margin-right: 0.25em;color: #696969;}#sk-container-id-2 label.sk-toggleable__label-arrow:hover:before {color: black;}#sk-container-id-2 div.sk-estimator:hover label.sk-toggleable__label-arrow:before {color: black;}#sk-container-id-2 div.sk-toggleable__content {max-height: 0;max-width: 0;overflow: hidden;text-align: left;background-color: #f0f8ff;}#sk-container-id-2 div.sk-toggleable__content pre {margin: 0.2em;color: black;border-radius: 0.25em;background-color: #f0f8ff;}#sk-container-id-2 input.sk-toggleable__control:checked~div.sk-toggleable__content {max-height: 200px;max-width: 100%;overflow: auto;}#sk-container-id-2 input.sk-toggleable__control:checked~label.sk-toggleable__label-arrow:before {content: \"▾\";}#sk-container-id-2 div.sk-estimator input.sk-toggleable__control:checked~label.sk-toggleable__label {background-color: #d4ebff;}#sk-container-id-2 div.sk-label input.sk-toggleable__control:checked~label.sk-toggleable__label {background-color: #d4ebff;}#sk-container-id-2 input.sk-hidden--visually {border: 0;clip: rect(1px 1px 1px 1px);clip: rect(1px, 1px, 1px, 1px);height: 1px;margin: -1px;overflow: hidden;padding: 0;position: absolute;width: 1px;}#sk-container-id-2 div.sk-estimator {font-family: monospace;background-color: #f0f8ff;border: 1px dotted black;border-radius: 0.25em;box-sizing: border-box;margin-bottom: 0.5em;}#sk-container-id-2 div.sk-estimator:hover {background-color: #d4ebff;}#sk-container-id-2 div.sk-parallel-item::after {content: \"\";width: 100%;border-bottom: 1px solid gray;flex-grow: 1;}#sk-container-id-2 div.sk-label:hover label.sk-toggleable__label {background-color: #d4ebff;}#sk-container-id-2 div.sk-serial::before {content: \"\";position: absolute;border-left: 1px solid gray;box-sizing: border-box;top: 0;bottom: 0;left: 50%;z-index: 0;}#sk-container-id-2 div.sk-serial {display: flex;flex-direction: column;align-items: center;background-color: white;padding-right: 0.2em;padding-left: 0.2em;position: relative;}#sk-container-id-2 div.sk-item {position: relative;z-index: 1;}#sk-container-id-2 div.sk-parallel {display: flex;align-items: stretch;justify-content: center;background-color: white;position: relative;}#sk-container-id-2 div.sk-item::before, #sk-container-id-2 div.sk-parallel-item::before {content: \"\";position: absolute;border-left: 1px solid gray;box-sizing: border-box;top: 0;bottom: 0;left: 50%;z-index: -1;}#sk-container-id-2 div.sk-parallel-item {display: flex;flex-direction: column;z-index: 1;position: relative;background-color: white;}#sk-container-id-2 div.sk-parallel-item:first-child::after {align-self: flex-end;width: 50%;}#sk-container-id-2 div.sk-parallel-item:last-child::after {align-self: flex-start;width: 50%;}#sk-container-id-2 div.sk-parallel-item:only-child::after {width: 0;}#sk-container-id-2 div.sk-dashed-wrapped {border: 1px dashed gray;margin: 0 0.4em 0.5em 0.4em;box-sizing: border-box;padding-bottom: 0.4em;background-color: white;}#sk-container-id-2 div.sk-label label {font-family: monospace;font-weight: bold;display: inline-block;line-height: 1.2em;}#sk-container-id-2 div.sk-label-container {text-align: center;}#sk-container-id-2 div.sk-container {/* jupyter's `normalize.less` sets `[hidden] { display: none; }` but bootstrap.min.css set `[hidden] { display: none !important; }` so we also need the `!important` here to be able to override the default hidden behavior on the sphinx rendered scikit-learn.org. See: https://github.com/scikit-learn/scikit-learn/issues/21755 */display: inline-block !important;position: relative;}#sk-container-id-2 div.sk-text-repr-fallback {display: none;}</style><div id=\"sk-container-id-2\" class=\"sk-top-container\"><div class=\"sk-text-repr-fallback\"><pre>MultinomialNB()</pre><b>In a Jupyter environment, please rerun this cell to show the HTML representation or trust the notebook. <br />On GitHub, the HTML representation is unable to render, please try loading this page with nbviewer.org.</b></div><div class=\"sk-container\" hidden><div class=\"sk-item\"><div class=\"sk-estimator sk-toggleable\"><input class=\"sk-toggleable__control sk-hidden--visually\" id=\"sk-estimator-id-2\" type=\"checkbox\" checked><label for=\"sk-estimator-id-2\" class=\"sk-toggleable__label sk-toggleable__label-arrow\">MultinomialNB</label><div class=\"sk-toggleable__content\"><pre>MultinomialNB()</pre></div></div></div></div></div>"
      ],
      "text/plain": [
       "MultinomialNB()"
      ]
     },
     "execution_count": 16,
     "metadata": {},
     "output_type": "execute_result"
    }
   ],
   "source": [
    "# Initialize and train the MultinomialNB classifier\n",
    "clf = MultinomialNB()\n",
    "clf.fit(X_train_vectorized, y_train)"
   ]
  },
  {
   "cell_type": "code",
   "execution_count": 17,
   "metadata": {},
   "outputs": [
    {
     "name": "stdout",
     "output_type": "stream",
     "text": [
      "Accuracy: 0.6458333333333334\n"
     ]
    }
   ],
   "source": [
    "# Make predictions on the test set\n",
    "predictions = clf.predict(X_test_vectorized)\n",
    "\n",
    "# Evaluate accuracy\n",
    "accuracy = accuracy_score(y_test, predictions)\n",
    "print(\"Accuracy:\", accuracy)\n",
    "\n",
    "# Print classification report\n",
    "#print(\"Classification Report:\")\n",
    "#print(classification_report(y_test, predictions))"
   ]
  },
  {
   "cell_type": "code",
   "execution_count": 18,
   "metadata": {},
   "outputs": [
    {
     "data": {
      "text/html": [
       "<style>#sk-container-id-3 {color: black;}#sk-container-id-3 pre{padding: 0;}#sk-container-id-3 div.sk-toggleable {background-color: white;}#sk-container-id-3 label.sk-toggleable__label {cursor: pointer;display: block;width: 100%;margin-bottom: 0;padding: 0.3em;box-sizing: border-box;text-align: center;}#sk-container-id-3 label.sk-toggleable__label-arrow:before {content: \"▸\";float: left;margin-right: 0.25em;color: #696969;}#sk-container-id-3 label.sk-toggleable__label-arrow:hover:before {color: black;}#sk-container-id-3 div.sk-estimator:hover label.sk-toggleable__label-arrow:before {color: black;}#sk-container-id-3 div.sk-toggleable__content {max-height: 0;max-width: 0;overflow: hidden;text-align: left;background-color: #f0f8ff;}#sk-container-id-3 div.sk-toggleable__content pre {margin: 0.2em;color: black;border-radius: 0.25em;background-color: #f0f8ff;}#sk-container-id-3 input.sk-toggleable__control:checked~div.sk-toggleable__content {max-height: 200px;max-width: 100%;overflow: auto;}#sk-container-id-3 input.sk-toggleable__control:checked~label.sk-toggleable__label-arrow:before {content: \"▾\";}#sk-container-id-3 div.sk-estimator input.sk-toggleable__control:checked~label.sk-toggleable__label {background-color: #d4ebff;}#sk-container-id-3 div.sk-label input.sk-toggleable__control:checked~label.sk-toggleable__label {background-color: #d4ebff;}#sk-container-id-3 input.sk-hidden--visually {border: 0;clip: rect(1px 1px 1px 1px);clip: rect(1px, 1px, 1px, 1px);height: 1px;margin: -1px;overflow: hidden;padding: 0;position: absolute;width: 1px;}#sk-container-id-3 div.sk-estimator {font-family: monospace;background-color: #f0f8ff;border: 1px dotted black;border-radius: 0.25em;box-sizing: border-box;margin-bottom: 0.5em;}#sk-container-id-3 div.sk-estimator:hover {background-color: #d4ebff;}#sk-container-id-3 div.sk-parallel-item::after {content: \"\";width: 100%;border-bottom: 1px solid gray;flex-grow: 1;}#sk-container-id-3 div.sk-label:hover label.sk-toggleable__label {background-color: #d4ebff;}#sk-container-id-3 div.sk-serial::before {content: \"\";position: absolute;border-left: 1px solid gray;box-sizing: border-box;top: 0;bottom: 0;left: 50%;z-index: 0;}#sk-container-id-3 div.sk-serial {display: flex;flex-direction: column;align-items: center;background-color: white;padding-right: 0.2em;padding-left: 0.2em;position: relative;}#sk-container-id-3 div.sk-item {position: relative;z-index: 1;}#sk-container-id-3 div.sk-parallel {display: flex;align-items: stretch;justify-content: center;background-color: white;position: relative;}#sk-container-id-3 div.sk-item::before, #sk-container-id-3 div.sk-parallel-item::before {content: \"\";position: absolute;border-left: 1px solid gray;box-sizing: border-box;top: 0;bottom: 0;left: 50%;z-index: -1;}#sk-container-id-3 div.sk-parallel-item {display: flex;flex-direction: column;z-index: 1;position: relative;background-color: white;}#sk-container-id-3 div.sk-parallel-item:first-child::after {align-self: flex-end;width: 50%;}#sk-container-id-3 div.sk-parallel-item:last-child::after {align-self: flex-start;width: 50%;}#sk-container-id-3 div.sk-parallel-item:only-child::after {width: 0;}#sk-container-id-3 div.sk-dashed-wrapped {border: 1px dashed gray;margin: 0 0.4em 0.5em 0.4em;box-sizing: border-box;padding-bottom: 0.4em;background-color: white;}#sk-container-id-3 div.sk-label label {font-family: monospace;font-weight: bold;display: inline-block;line-height: 1.2em;}#sk-container-id-3 div.sk-label-container {text-align: center;}#sk-container-id-3 div.sk-container {/* jupyter's `normalize.less` sets `[hidden] { display: none; }` but bootstrap.min.css set `[hidden] { display: none !important; }` so we also need the `!important` here to be able to override the default hidden behavior on the sphinx rendered scikit-learn.org. See: https://github.com/scikit-learn/scikit-learn/issues/21755 */display: inline-block !important;position: relative;}#sk-container-id-3 div.sk-text-repr-fallback {display: none;}</style><div id=\"sk-container-id-3\" class=\"sk-top-container\"><div class=\"sk-text-repr-fallback\"><pre>RandomForestClassifier(random_state=42)</pre><b>In a Jupyter environment, please rerun this cell to show the HTML representation or trust the notebook. <br />On GitHub, the HTML representation is unable to render, please try loading this page with nbviewer.org.</b></div><div class=\"sk-container\" hidden><div class=\"sk-item\"><div class=\"sk-estimator sk-toggleable\"><input class=\"sk-toggleable__control sk-hidden--visually\" id=\"sk-estimator-id-3\" type=\"checkbox\" checked><label for=\"sk-estimator-id-3\" class=\"sk-toggleable__label sk-toggleable__label-arrow\">RandomForestClassifier</label><div class=\"sk-toggleable__content\"><pre>RandomForestClassifier(random_state=42)</pre></div></div></div></div></div>"
      ],
      "text/plain": [
       "RandomForestClassifier(random_state=42)"
      ]
     },
     "execution_count": 18,
     "metadata": {},
     "output_type": "execute_result"
    }
   ],
   "source": [
    "from sklearn.ensemble import RandomForestClassifier\n",
    "#using randomforest classifier for better accuracy\n",
    "clf = RandomForestClassifier(n_estimators=100, random_state=42)\n",
    "#Increasing the number of trees (n_estimators) generally improves the model's performance.\n",
    "clf.fit(X_train_vectorized, y_train)\n"
   ]
  },
  {
   "cell_type": "code",
   "execution_count": 19,
   "metadata": {},
   "outputs": [
    {
     "name": "stdout",
     "output_type": "stream",
     "text": [
      "Accuracy: 0.8125\n"
     ]
    }
   ],
   "source": [
    "# Make predictions on the test set\n",
    "predictions = clf.predict(X_test_vectorized)\n",
    "\n",
    "# Evaluate accuracy\n",
    "accuracy = accuracy_score(y_test, predictions)\n",
    "print(\"Accuracy:\", accuracy)"
   ]
  },
  {
   "cell_type": "markdown",
   "metadata": {},
   "source": [
    "# email assign "
   ]
  },
  {
   "cell_type": "code",
   "execution_count": 20,
   "metadata": {},
   "outputs": [
    {
     "name": "stdout",
     "output_type": "stream",
     "text": [
      "Enter your question (or 'exit' to quit): exit\n"
     ]
    }
   ],
   "source": [
    "categories = ['Accommodation', 'Fees', 'Registration', 'Immigration', 'Careers',\n",
    "       'Complaints', 'Counselling', 'General']\n",
    "\n",
    "# Initialize an empty dictionary to store category-email mapping\n",
    "category_email_mapping = {}\n",
    "\n",
    "# Interactive loop for user input\n",
    "while True:\n",
    "    user_input = input(\"Enter your question (or 'exit' to quit): \")\n",
    "    if user_input.lower() == 'exit':\n",
    "        break\n",
    "    try:\n",
    "        # Assuming classify_question is a function that predicts the category\n",
    "        predicted_category = classify_question(user_input)\n",
    "        print(f\"Predicted Category: {predicted_category}\")\n",
    "        \n",
    "        # Assign an email based on the predicted category\n",
    "        email = f\"{predicted_category.lower()}@email.com\"\n",
    "        category_email_mapping[predicted_category] = email\n",
    "\n",
    "        print(f\"Assigned Email: {email}\")\n",
    "        for category, email in category_email_mapping.items():\n",
    "            print(f\"Category: {category} -> Email: {email}\")\n",
    "\n",
    "    except ValueError as e:\n",
    "        print(f\"Error: {e}\")\n",
    "\n"
   ]
  },
  {
   "cell_type": "markdown",
   "metadata": {},
   "source": [
    "# email  assign with GUI simple"
   ]
  },
  {
   "cell_type": "code",
   "execution_count": 21,
   "metadata": {},
   "outputs": [],
   "source": [
    "import tkinter as tk\n",
    "from tkinter import ttk\n",
    "\n",
    "class CategoryAssignmentGUI:\n",
    "    def __init__(self):\n",
    "        self.categories = ['Accommodation', 'Fees', 'Registration', 'Immigration', 'Careers',\n",
    "                           'Complaints', 'Counselling', 'General']\n",
    "\n",
    "        self.category_email_mapping = []\n",
    "        \n",
    "        self.root = tk.Tk()\n",
    "        self.root.title(\"Category Assignment GUI\")\n",
    "        self.root.geometry(\"600x400\")  # Adjusted window size\n",
    "\n",
    "        # Heading\n",
    "        self.heading_label = ttk.Label(self.root, text=\"VERTIPATH TECHNOLOGIES\", font=('Helvetica', 16, 'bold'))\n",
    "        self.heading_label.pack(pady=10)\n",
    "\n",
    "        # Organization Name\n",
    "        self.org_label = ttk.Label(self.root, text=\"HUMBER ADVANCED LEARNING\", font=('Helvetica', 14, 'italic'))\n",
    "        self.org_label.pack(pady=10)\n",
    "\n",
    "        self.label = ttk.Label(self.root, text=\"Enter your question:\")\n",
    "        self.label.pack(pady=5)\n",
    "\n",
    "        self.entry = ttk.Entry(self.root, width=50)\n",
    "        self.entry.pack(pady=5)\n",
    "\n",
    "        self.button = ttk.Button(self.root, text=\"Submit\", command=self.process_question)\n",
    "        self.button.pack(pady=10)\n",
    "\n",
    "        self.clear_button = ttk.Button(self.root, text=\"Clear\", command=self.clear_fields)\n",
    "        self.clear_button.pack(pady=5)\n",
    "\n",
    "        self.exit_button = ttk.Button(self.root, text=\"Exit\", command=self.root.destroy)\n",
    "        self.exit_button.pack(pady=10)\n",
    "\n",
    "        self.result_label = ttk.Label(self.root, text=\"\")\n",
    "        self.result_label.pack(pady=10)\n",
    "\n",
    "    def process_question(self):\n",
    "        user_input = self.entry.get()\n",
    "        if user_input.lower() == 'exit':\n",
    "            self.root.destroy()\n",
    "            return\n",
    "        try:\n",
    "            predicted_category = classify_question(user_input)\n",
    "            email = f\"{predicted_category.lower()}@email.com\"\n",
    "            self.category_email_mapping.append((predicted_category, email))\n",
    "            result_text = f\"Predicted Category: {predicted_category}\\nAssigned Email: {email}\"\n",
    "\n",
    "            # Display the mapping\n",
    "            result_text += \"\\n\\nCategory-Email Mapping:\"\n",
    "            for category, email in self.category_email_mapping:\n",
    "                result_text += f\"\\nCategory: {category} -> Email: {email}\"\n",
    "\n",
    "            self.result_label.config(text=result_text)\n",
    "        except ValueError as e:\n",
    "            self.result_label.config(text=f\"Error: {e}\")\n",
    "\n",
    "    def clear_fields(self):\n",
    "        # Clear the entry field and result label\n",
    "        self.entry.delete(0, tk.END)\n",
    "        self.result_label.config(text=\"\")\n",
    "\n",
    "    def run(self):\n",
    "        self.root.mainloop()\n",
    "\n",
    "# Replace this function with your actual classifier function\n",
    "def classify_question(user_question):\n",
    "    #Transform the user's question using the TF-IDF vectorizer\n",
    "    user_question_vectorized = vectorizer.transform([user_question])\n",
    "\n",
    "    #Predict the category for the user's question\n",
    "    predicted_category = clf.predict(user_question_vectorized)[0]\n",
    "\n",
    "    return predicted_category\n",
    "\n",
    "# Create an instance of the GUI and run it\n",
    "gui = CategoryAssignmentGUI()\n",
    "gui.run()\n"
   ]
  },
  {
   "cell_type": "code",
   "execution_count": null,
   "metadata": {},
   "outputs": [],
   "source": []
  },
  {
   "cell_type": "code",
   "execution_count": null,
   "metadata": {},
   "outputs": [],
   "source": []
  }
 ],
 "metadata": {
  "colab": {
   "provenance": []
  },
  "kernelspec": {
   "display_name": "Python 3 (ipykernel)",
   "language": "python",
   "name": "python3"
  },
  "language_info": {
   "codemirror_mode": {
    "name": "ipython",
    "version": 3
   },
   "file_extension": ".py",
   "mimetype": "text/x-python",
   "name": "python",
   "nbconvert_exporter": "python",
   "pygments_lexer": "ipython3",
   "version": "3.11.5"
  }
 },
 "nbformat": 4,
 "nbformat_minor": 1
}
